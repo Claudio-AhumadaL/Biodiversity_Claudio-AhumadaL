{
 "cells": [
  {
   "cell_type": "code",
   "execution_count": 1,
   "metadata": {},
   "outputs": [],
   "source": [
    "# Import necessary libraries\n",
    "\n",
    "import pandas as pd\n",
    "import numpy as np\n",
    "import matplotlib.pyplot as plt\n",
    "import seaborn as sns\n",
    "from scipy import stats"
   ]
  },
  {
   "cell_type": "code",
   "execution_count": 2,
   "metadata": {},
   "outputs": [],
   "source": [
    "# Load data\n",
    "\n",
    "observations_data = pd.read_csv(\"observations.csv\")\n",
    "species_info = pd.read_csv(\"species_info.csv\")\n"
   ]
  },
  {
   "cell_type": "code",
   "execution_count": 3,
   "metadata": {},
   "outputs": [
    {
     "name": "stdout",
     "output_type": "stream",
     "text": [
      "<class 'pandas.core.frame.DataFrame'>\n",
      "RangeIndex: 23296 entries, 0 to 23295\n",
      "Data columns (total 3 columns):\n",
      " #   Column           Non-Null Count  Dtype \n",
      "---  ------           --------------  ----- \n",
      " 0   scientific_name  23296 non-null  object\n",
      " 1   park_name        23296 non-null  object\n",
      " 2   observations     23296 non-null  int64 \n",
      "dtypes: int64(1), object(2)\n",
      "memory usage: 546.1+ KB\n",
      "None\n",
      "       observations\n",
      "count  23296.000000\n",
      "mean     142.287904\n",
      "std       69.890532\n",
      "min        9.000000\n",
      "25%       86.000000\n",
      "50%      124.000000\n",
      "75%      195.000000\n",
      "max      321.000000\n"
     ]
    }
   ],
   "source": [
    "# observation_data inspection\n",
    "\n",
    "print(observations_data.info())\n",
    "print(observations_data.describe())\n",
    "#print(observations_data.shape)\n",
    "\n",
    "# Remove duplicates\n",
    "\n",
    "observations_data = observations_data.drop_duplicates()\n",
    "\n",
    "#print(observations_data.shape)\n",
    "\n",
    "# Check for NaN values \n",
    "\n",
    "#observations_data.isnull().values.any()"
   ]
  },
  {
   "cell_type": "code",
   "execution_count": 4,
   "metadata": {},
   "outputs": [
    {
     "name": "stdout",
     "output_type": "stream",
     "text": [
      "<class 'pandas.core.frame.DataFrame'>\n",
      "RangeIndex: 5824 entries, 0 to 5823\n",
      "Data columns (total 4 columns):\n",
      " #   Column               Non-Null Count  Dtype \n",
      "---  ------               --------------  ----- \n",
      " 0   category             5824 non-null   object\n",
      " 1   scientific_name      5824 non-null   object\n",
      " 2   common_names         5824 non-null   object\n",
      " 3   conservation_status  191 non-null    object\n",
      "dtypes: object(4)\n",
      "memory usage: 182.1+ KB\n",
      "None\n",
      "              category    scientific_name        common_names  \\\n",
      "count             5824               5824                5824   \n",
      "unique               7               5541                5504   \n",
      "top     Vascular Plant  Castor canadensis  Brachythecium Moss   \n",
      "freq              4470                  3                   7   \n",
      "\n",
      "       conservation_status  \n",
      "count                  191  \n",
      "unique                   4  \n",
      "top     Species of Concern  \n",
      "freq                   161  \n"
     ]
    }
   ],
   "source": [
    "# species_info inspection\n",
    "\n",
    "print(species_info.info())\n",
    "print(species_info.describe())\n",
    "#print(species_info.shape)\n",
    "\n",
    "# Remove duplicates\n",
    "\n",
    "#species_info = species_info.drop_duplicates()\n",
    "\n",
    "#print(species_info.shape)\n",
    "\n",
    "# Check for NaN values \n",
    "\n",
    "#species_info.isnull().values.any()\n",
    "\n",
    "# Inspect NaN values\n",
    "\n",
    "#species_info_nan = species_info[species_info[\"conservation_status\"].isnull()]\n",
    "#species_info_nan[\"conservation_status\"].value_counts()"
   ]
  },
  {
   "cell_type": "code",
   "execution_count": 5,
   "metadata": {},
   "outputs": [
    {
     "name": "stdout",
     "output_type": "stream",
     "text": [
      "<class 'pandas.core.frame.DataFrame'>\n",
      "RangeIndex: 5824 entries, 0 to 5823\n",
      "Data columns (total 4 columns):\n",
      " #   Column               Non-Null Count  Dtype \n",
      "---  ------               --------------  ----- \n",
      " 0   category             5824 non-null   object\n",
      " 1   scientific_name      5824 non-null   object\n",
      " 2   common_names         5824 non-null   object\n",
      " 3   conservation_status  5824 non-null   object\n",
      "dtypes: object(4)\n",
      "memory usage: 182.1+ KB\n"
     ]
    }
   ],
   "source": [
    "# Replacing species_info.conservation_status' NaN values to appropiate value\n",
    "\n",
    "# Since this is a DF about endangered species, NaN values of the conservation_status columns mean that that species is not in danger.\n",
    "\n",
    "# Thus, NaN values will be replaced by \"Not Endangered\" for better visualization\n",
    "\n",
    "species_info[\"conservation_status\"] = species_info[\"conservation_status\"].replace(np.nan, \"Not Endangered\")\n",
    "species_info_nan = species_info[species_info[\"conservation_status\"].isnull()]\n",
    "species_info.info()"
   ]
  },
  {
   "cell_type": "code",
   "execution_count": 6,
   "metadata": {},
   "outputs": [
    {
     "name": "stdout",
     "output_type": "stream",
     "text": [
      "Unique number of species: 5541.\n",
      "Unique number of categories: 7\n"
     ]
    }
   ],
   "source": [
    "# Number of unique species and categories. \n",
    "\n",
    "print(f\"Unique number of species: {species_info.scientific_name.nunique()}.\")\n",
    "print(f\"Unique number of categories: {species_info.category.nunique()}\")"
   ]
  },
  {
   "cell_type": "code",
   "execution_count": 7,
   "metadata": {},
   "outputs": [
    {
     "name": "stdout",
     "output_type": "stream",
     "text": [
      "Bryce National Park                    5823\n",
      "Yosemite National Park                 5821\n",
      "Yellowstone National Park              5819\n",
      "Great Smoky Mountains National Park    5818\n",
      "Name: park_name, dtype: int64\n",
      "Vascular Plant       4470\n",
      "Bird                  521\n",
      "Nonvascular Plant     333\n",
      "Mammal                214\n",
      "Fish                  127\n",
      "Amphibian              80\n",
      "Reptile                79\n",
      "Name: category, dtype: int64\n",
      "Not Endangered        5633\n",
      "Species of Concern     161\n",
      "Endangered              16\n",
      "Threatened              10\n",
      "In Recovery              4\n",
      "Name: conservation_status, dtype: int64\n"
     ]
    }
   ],
   "source": [
    "# Inspect Value Counts\n",
    "\n",
    "# For observation_data DF\n",
    "print(observations_data.park_name.value_counts())\n",
    "\n",
    "# For species_info DF\n",
    "\n",
    "print(species_info.category.value_counts())\n",
    "print(species_info.conservation_status.value_counts())"
   ]
  },
  {
   "cell_type": "code",
   "execution_count": 8,
   "metadata": {},
   "outputs": [
    {
     "data": {
      "image/png": "[encoded data removed]",
      "text/plain": [
       "<Figure size 640x480 with 1 Axes>"
      ]
     },
     "metadata": {},
     "output_type": "display_data"
    }
   ],
   "source": [
    "# Initial Visualization - Number of observations per national park\n",
    "\n",
    "obs_count = sns.barplot(data=observations_data, x = \"park_name\", y = \"observations\", estimator = sum)\n",
    "obs_count.set_xticks(range(0,4))\n",
    "obs_count.set_xticklabels(labels = [\"Great Smoky Mountains\", \"Yosemite\", \"Bryce\", \"Yellowstone\"], rotation = 30)\n",
    "plt.title(\"Number of observations per National Park\")\n",
    "plt.xlabel(\"National Parks\")\n",
    "plt.ylabel(\"Total observations\")\n",
    "plt.show()"
   ]
  },
  {
   "cell_type": "code",
   "execution_count": 9,
   "metadata": {},
   "outputs": [],
   "source": [
    "# Initial Visualization - Number of observations per category"
   ]
  },
  {
   "cell_type": "code",
   "execution_count": null,
   "metadata": {},
   "outputs": [],
   "source": []
  }
 ],
 "metadata": {
  "kernelspec": {
   "display_name": "Python 3 (ipykernel)",
   "language": "python",
   "name": "python3"
  },
  "language_info": {
   "codemirror_mode": {
    "name": "ipython",
    "version": 3
   },
   "file_extension": ".py",
   "mimetype": "text/x-python",
   "name": "python",
   "nbconvert_exporter": "python",
   "pygments_lexer": "ipython3",
   "version": "3.9.13"
  }
 },
 "nbformat": 4,
 "nbformat_minor": 4
}
